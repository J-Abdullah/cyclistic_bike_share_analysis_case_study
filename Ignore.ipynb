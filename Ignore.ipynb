{
 "cells": [
  {
   "cell_type": "code",
   "execution_count": 1,
   "metadata": {},
   "outputs": [],
   "source": [
    "import pandas as pd\n",
    "import numpy as np\n",
    "import os\n",
    "import glob"
   ]
  },
  {
   "cell_type": "markdown",
   "metadata": {},
   "source": [
    "## prepare / combining data"
   ]
  },
  {
   "cell_type": "code",
   "execution_count": 2,
   "metadata": {},
   "outputs": [],
   "source": [
    "path=glob.glob('Dataset\\*.csv')\n",
    "dataframes = []\n",
    "for file in path:\n",
    "    dataframes.append(pd.read_csv(file))\n",
    "    \n",
    "df=pd.concat(dataframes,ignore_index=True)\n",
    "df.to_csv(\"cyclistic-0723-0724.csv\",index=False)"
   ]
  },
  {
   "cell_type": "code",
   "execution_count": 13,
   "metadata": {},
   "outputs": [
    {
     "name": "stdout",
     "output_type": "stream",
     "text": [
      "<class 'pandas.core.frame.DataFrame'>\n",
      "RangeIndex: 6483343 entries, 0 to 6483342\n",
      "Data columns (total 13 columns):\n",
      " #   Column              Dtype  \n",
      "---  ------              -----  \n",
      " 0   ride_id             object \n",
      " 1   rideable_type       object \n",
      " 2   started_at          object \n",
      " 3   ended_at            object \n",
      " 4   start_station_name  object \n",
      " 5   start_station_id    object \n",
      " 6   end_station_name    object \n",
      " 7   end_station_id      object \n",
      " 8   start_lat           float64\n",
      " 9   start_lng           float64\n",
      " 10  end_lat             float64\n",
      " 11  end_lng             float64\n",
      " 12  member_casual       object \n",
      "dtypes: float64(4), object(9)\n",
      "memory usage: 643.0+ MB\n"
     ]
    }
   ],
   "source": [
    "df.info()"
   ]
  },
  {
   "cell_type": "code",
   "execution_count": 10,
   "metadata": {},
   "outputs": [
    {
     "name": "stdout",
     "output_type": "stream",
     "text": [
      "<class 'pandas.core.frame.DataFrame'>\n",
      "RangeIndex: 767650 entries, 0 to 767649\n",
      "Data columns (total 13 columns):\n",
      " #   Column              Non-Null Count   Dtype  \n",
      "---  ------              --------------   -----  \n",
      " 0   ride_id             767650 non-null  object \n",
      " 1   rideable_type       767650 non-null  object \n",
      " 2   started_at          767650 non-null  object \n",
      " 3   ended_at            767650 non-null  object \n",
      " 4   start_station_name  644707 non-null  object \n",
      " 5   start_station_id    644707 non-null  object \n",
      " 6   end_station_name    637346 non-null  object \n",
      " 7   end_station_id      637346 non-null  object \n",
      " 8   start_lat           767650 non-null  float64\n",
      " 9   start_lng           767650 non-null  float64\n",
      " 10  end_lat             766396 non-null  float64\n",
      " 11  end_lng             766396 non-null  float64\n",
      " 12  member_casual       767650 non-null  object \n",
      "dtypes: float64(4), object(9)\n",
      "memory usage: 76.1+ MB\n"
     ]
    }
   ],
   "source": [
    "cdf=pd.read_csv(r\"Dataset\\202307-divvy-tripdata.csv\")\n",
    "cdf.info()"
   ]
  },
  {
   "cell_type": "code",
   "execution_count": 23,
   "metadata": {},
   "outputs": [],
   "source": [
    "# cdf[\"started_at\"] = pd.to_datetime(cdf[\"started_at\"])\n",
    "# cdf[\"ended_at\"] = pd.to_datetime(cdf[\"ended_at\"])\n",
    "cdf[\"ride_length\"] = cdf[\"ended_at\"] - cdf[\"started_at\"]\n"
   ]
  },
  {
   "cell_type": "markdown",
   "metadata": {},
   "source": [
    "#cdf[\"ride_length\"]=cdf[\"ride_length\"].apply(lambda x: str(x).split(\" \")[-1])  #// it will give HH:MM:SS formt but change timedelta to object\n",
    "cdf.head()"
   ]
  },
  {
   "cell_type": "code",
   "execution_count": 25,
   "metadata": {},
   "outputs": [
    {
     "name": "stdout",
     "output_type": "stream",
     "text": [
      "<class 'pandas.core.frame.DataFrame'>\n",
      "RangeIndex: 767650 entries, 0 to 767649\n",
      "Data columns (total 14 columns):\n",
      " #   Column              Non-Null Count   Dtype          \n",
      "---  ------              --------------   -----          \n",
      " 0   ride_id             767650 non-null  object         \n",
      " 1   rideable_type       767650 non-null  object         \n",
      " 2   started_at          767650 non-null  datetime64[ns] \n",
      " 3   ended_at            767650 non-null  datetime64[ns] \n",
      " 4   start_station_name  644707 non-null  object         \n",
      " 5   start_station_id    644707 non-null  object         \n",
      " 6   end_station_name    637346 non-null  object         \n",
      " 7   end_station_id      637346 non-null  object         \n",
      " 8   start_lat           767650 non-null  float64        \n",
      " 9   start_lng           767650 non-null  float64        \n",
      " 10  end_lat             766396 non-null  float64        \n",
      " 11  end_lng             766396 non-null  float64        \n",
      " 12  member_casual       767650 non-null  object         \n",
      " 13  ride_length         767650 non-null  timedelta64[ns]\n",
      "dtypes: datetime64[ns](2), float64(4), object(7), timedelta64[ns](1)\n",
      "memory usage: 82.0+ MB\n"
     ]
    }
   ],
   "source": [
    "cdf.info()"
   ]
  },
  {
   "cell_type": "markdown",
   "metadata": {},
   "source": []
  },
  {
   "cell_type": "code",
   "execution_count": null,
   "metadata": {},
   "outputs": [],
   "source": []
  }
 ],
 "metadata": {
  "kernelspec": {
   "display_name": "Python 3",
   "language": "python",
   "name": "python3"
  },
  "language_info": {
   "codemirror_mode": {
    "name": "ipython",
    "version": 3
   },
   "file_extension": ".py",
   "mimetype": "text/x-python",
   "name": "python",
   "nbconvert_exporter": "python",
   "pygments_lexer": "ipython3",
   "version": "3.11.1"
  }
 },
 "nbformat": 4,
 "nbformat_minor": 2
}
